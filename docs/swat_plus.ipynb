{
 "cells": [
  {
   "metadata": {},
   "cell_type": "markdown",
   "source": [
    "# SWAT+\n",
    "\n",
    "This notebook is an example of BOA running a real environmental model, SWAT+. \n",
    "\n",
    "In the `swat` folder you will find a SAASBO configuration file that pulls the SWAT+ possible parameters from the SWAT+ `cal_parms.cal` file to create a high dimensional optimization problem to run on a SLURM cluster as well as a highly parallelized SLURM configuration file. Both configurations are too computationally expensive to run here as an example, but the `swat` folder contains the necessary files to run the model on your own machine or cluster. Both configurations are shown below.\n",
    "\n",
    "Here we will run a simpler example, under the `swat/config_local_test.yaml` configuration file. This configuration file is a simplified version of the `swat` configuration file, with 8 parameters, 2 constraints, and 10 trials."
   ],
   "id": "c4bf6b6d3cc1ada7"
  },
  {
   "cell_type": "code",
   "source": [
    "# This notebook uses hidden cells to import and display things so\n",
    "# that it can be ran regullary to make sure the documentation\n",
    "# is up to date and not broken (as opposed to a markdown file\n",
    "# that would have an exmaple written once and get out of date\n",
    "# as the code base changes)\n",
    "\n",
    "# These hidden cells are only responsible for rerunning\n",
    "# the documentation to ensure it is correct.\n",
    "# the actual relavent part of the documentation\n",
    "# are the non hidden parts"
   ],
   "metadata": {
    "collapsed": false
   },
   "id": "b37036fc32c45a46",
   "outputs": [],
   "execution_count": null
  },
  {
   "cell_type": "code",
   "id": "a1149922-0d89-4146-9236-7ff758f44435",
   "metadata": {
    "tags": [
     "remove-cell"
    ]
   },
   "source": [
    "import pathlib\n",
    "import boa\n",
    "\n",
    "from IPython.display import Code\n",
    "\n",
    "boa_paper_dir = pathlib.Path().resolve().parent\n",
    "r_dir = boa_paper_dir / \"swat\"\n",
    "config_path = r_dir / \"config_local_test.yaml\"\n",
    "run_model_script = r_dir / \"run_model.R\"\n",
    "\n",
    "config_saasbo_path = r_dir / \"config_auto_saasbo.yaml\"\n",
    "config_parr_path = r_dir / \"config_parr.yaml\""
   ],
   "outputs": [],
   "execution_count": null
  },
  {
   "cell_type": "markdown",
   "id": "74999810-5017-46f2-9ea6-d19e6ac55164",
   "metadata": {},
   "source": "## Configuration File"
  },
  {
   "metadata": {},
   "cell_type": "markdown",
   "source": [
    "### SAASBO\n",
    "\n",
    "config_auto_saasbo.yaml"
   ],
   "id": "f918a906329a4925"
  },
  {
   "metadata": {},
   "cell_type": "code",
   "source": "Code(config_saasbo_path, language=\"yaml\")",
   "id": "8edf7e0b6abfc2f5",
   "outputs": [],
   "execution_count": null
  },
  {
   "metadata": {},
   "cell_type": "markdown",
   "source": [
    "The SAASBO configuration file tells BOA to dynamically grab the parameters from the SWAT+ `cal_parms.cal` file and create a high dimensional optimization problem to run on a SLURM cluster.\n",
    "\n",
    "When BOA gets the parameters from the `cal_parms.cal` file, it will create a parameter for each line in the file. The `cal_parms.cal` file is a text file that contains the SWAT+ parameters that can be optimized as well as their bounds they can be. Each line in the file is a parameter that can be optimized. Optimizing every parameter blindly with their maximum bounds is obviously not the most sound setup, but it demonstrates the flexibility of BOA to handle high dimensional optimization problems."
   ],
   "id": "7bc8e105433f22b3"
  },
  {
   "metadata": {},
   "cell_type": "markdown",
   "source": [
    "### Parallel\n",
    "\n",
    "config_parr.yaml"
   ],
   "id": "79e13538929509ab"
  },
  {
   "metadata": {},
   "cell_type": "code",
   "source": "Code(config_parr_path, language=\"yaml\")",
   "id": "6e9e5744c185c9f0",
   "outputs": [],
   "execution_count": null
  },
  {
   "cell_type": "markdown",
   "id": "5a231fe4-5ac4-42c2-a7a1-1531335c7fb2",
   "metadata": {
    "tags": []
   },
   "source": [
    "## Run Model Wrapper Script\n",
    "\n",
    "run_model.R"
   ]
  },
  {
   "cell_type": "code",
   "id": "1332c2f4-8497-4ad5-8416-0baeda8d24ca",
   "metadata": {
    "tags": [
     "remove-input"
    ]
   },
   "source": "Code(run_model_script)",
   "outputs": [],
   "execution_count": null
  },
  {
   "cell_type": "markdown",
   "id": "7733a61f-186f-4f90-ac43-fe0435acb490",
   "metadata": {},
   "source": [
    "## Running our script\n",
    "\n",
    "To run our script we just need to pass the config file to BOA's CLI\n",
    "\n",
    "```python\n",
    "python -m boa --config-file path/to/config.yaml\n",
    "```\n",
    "\n",
    "or\n",
    "\n",
    "```python\n",
    "python -m boa -c path/to/config.yaml\n",
    "```"
   ]
  },
  {
   "cell_type": "code",
   "id": "b7c3b4bc-fee0-44a9-8444-9097336285d7",
   "metadata": {
    "tags": [
     "remove-input"
    ]
   },
   "source": [
    "output = !python -m boa -c {config_path}  # we capture ipython terminal output to python variable\n",
    "o = \"\\n\".join(ln for ln in output)  # it comes in as a list, we convert to string\n",
    "o = o.replace(str(r_dir),  \"[/path/to/your/dir/]\")  # replace the actual dir with a stand in for privacy reasons\n",
    "Code(o)"
   ],
   "outputs": [],
   "execution_count": null
  },
  {
   "metadata": {},
   "cell_type": "code",
   "source": "",
   "id": "92fca76e9c4fec87",
   "outputs": [],
   "execution_count": null
  }
 ],
 "metadata": {
  "kernelspec": {
   "display_name": "Python 3",
   "language": "python",
   "name": "python3"
  },
  "language_info": {
   "codemirror_mode": {
    "name": "ipython",
    "version": 3
   },
   "file_extension": ".py",
   "mimetype": "text/x-python",
   "name": "python",
   "nbconvert_exporter": "python",
   "pygments_lexer": "ipython3",
   "version": "3.10.12"
  }
 },
 "nbformat": 4,
 "nbformat_minor": 5
}
