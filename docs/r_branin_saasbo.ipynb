{
 "cells": [
  {
   "metadata": {},
   "cell_type": "markdown",
   "source": [
    "# R Branin Saasbo - High Dimensional Optimization\n",
    "\n",
    "This notebook is an example of a single objective R model optimization using a branin synthetic function (2 dimensions) embedded in a higher dimensional space. We only run a few trials in this notebook because SAASBO is more computationally expensive than BO algorithms.\n",
    "\n",
    "See the folder `r_branin_saasbo` for the R script and the configuration file. "
   ],
   "id": "c4bf6b6d3cc1ada7"
  },
  {
   "cell_type": "code",
   "source": [
    "# This notebook uses hidden cells to import and display things so\n",
    "# that it can be ran regullary to make sure the documentation\n",
    "# is up to date and not broken (as opposed to a markdown file\n",
    "# that would have an exmaple written once and get out of date\n",
    "# as the code base changes)\n",
    "\n",
    "# These hidden cells are only responsible for rerunning\n",
    "# the documentation to ensure it is correct.\n",
    "# the actual relavent part of the documentation\n",
    "# are the non hidden parts"
   ],
   "metadata": {
    "collapsed": false
   },
   "id": "b37036fc32c45a46",
   "outputs": [],
   "execution_count": null
  },
  {
   "metadata": {},
   "cell_type": "code",
   "source": "",
   "id": "8c4a4343639970e5",
   "outputs": [],
   "execution_count": null
  },
  {
   "cell_type": "code",
   "id": "a1149922-0d89-4146-9236-7ff758f44435",
   "metadata": {
    "tags": [
     "remove-cell"
    ]
   },
   "source": [
    "import pathlib\n",
    "\n",
    "from IPython.display import Code\n",
    "\n",
    "boa_paper_dir = pathlib.Path().resolve().parent\n",
    "r_dir = boa_paper_dir / \"r_saasbo_branin\"\n",
    "config_path = r_dir / \"config.yaml\"\n",
    "run_model_script = r_dir / \"run_model.R\""
   ],
   "outputs": [],
   "execution_count": null
  },
  {
   "cell_type": "markdown",
   "id": "74999810-5017-46f2-9ea6-d19e6ac55164",
   "metadata": {},
   "source": [
    "## Configuration File\n",
    "\n",
    "config.yaml"
   ]
  },
  {
   "cell_type": "code",
   "id": "6050297d-3485-48bc-bcba-49b8e1f0eb0d",
   "metadata": {
    "tags": [
     "remove-input"
    ]
   },
   "source": [
    "Code(config_path)"
   ],
   "outputs": [],
   "execution_count": null
  },
  {
   "cell_type": "markdown",
   "id": "5a231fe4-5ac4-42c2-a7a1-1531335c7fb2",
   "metadata": {
    "tags": []
   },
   "source": [
    "## Run Model Wrapper Script\n",
    "\n",
    "run_model.R"
   ]
  },
  {
   "cell_type": "code",
   "id": "1332c2f4-8497-4ad5-8416-0baeda8d24ca",
   "metadata": {
    "tags": [
     "remove-input"
    ]
   },
   "source": "Code(run_model_script)",
   "outputs": [],
   "execution_count": null
  },
  {
   "cell_type": "markdown",
   "id": "7733a61f-186f-4f90-ac43-fe0435acb490",
   "metadata": {},
   "source": [
    "## Running our script\n",
    "\n",
    "To run our script we just need to pass the config file to BOA's CLI\n",
    "\n",
    "```python\n",
    "python -m boa --config-file path/to/config.yaml\n",
    "```\n",
    "\n",
    "or\n",
    "\n",
    "```python\n",
    "python -m boa -c path/to/config.yaml\n",
    "```"
   ]
  },
  {
   "cell_type": "code",
   "id": "b7c3b4bc-fee0-44a9-8444-9097336285d7",
   "metadata": {
    "tags": [
     "remove-input"
    ]
   },
   "source": [
    "output = !python -m boa -c {config_path}  # we capture ipython terminal output to python variable\n",
    "o = \"\\n\".join(ln for ln in output)  # it comes in as a list, we convert to string\n",
    "o = o.replace(str(r_dir),  \"[/path/to/your/dir/]\")  # replace the actual dir with a stand in for privacy reasons\n",
    "Code(o)"
   ],
   "outputs": [],
   "execution_count": null
  },
  {
   "metadata": {},
   "cell_type": "code",
   "source": "",
   "id": "b58a0a2fd1a078c1",
   "outputs": [],
   "execution_count": null
  }
 ],
 "metadata": {
  "kernelspec": {
   "display_name": "Python 3",
   "language": "python",
   "name": "python3"
  },
  "language_info": {
   "codemirror_mode": {
    "name": "ipython",
    "version": 3
   },
   "file_extension": ".py",
   "mimetype": "text/x-python",
   "name": "python",
   "nbconvert_exporter": "python",
   "pygments_lexer": "ipython3",
   "version": "3.10.12"
  }
 },
 "nbformat": 4,
 "nbformat_minor": 5
}
